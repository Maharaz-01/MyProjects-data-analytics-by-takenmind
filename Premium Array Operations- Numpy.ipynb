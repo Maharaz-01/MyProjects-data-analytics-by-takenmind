{
 "cells": [
  {
   "cell_type": "code",
   "execution_count": 1,
   "id": "nasty-aquatic",
   "metadata": {},
   "outputs": [],
   "source": [
    "#Agenda\n",
    "#Function of Numpy Arrays - arange()\n",
    "#Function of Numpy Arrays - sqrt()\n",
    "#Function of Numpy Arrays - random()\n",
    "#Function of Numpy Arrays - add()\n",
    "#Function of Numpy Arrays - maximum()\n",
    "#Numpy Additional documentation - numpy.org, docs.scipy.org"
   ]
  },
  {
   "cell_type": "code",
   "execution_count": 2,
   "id": "favorite-driving",
   "metadata": {},
   "outputs": [],
   "source": [
    "import numpy as mm"
   ]
  },
  {
   "cell_type": "code",
   "execution_count": 4,
   "id": "opposed-garage",
   "metadata": {},
   "outputs": [
    {
     "name": "stdout",
     "output_type": "stream",
     "text": [
      "[ 0  1  2  3  4  5  6  7  8  9 10 11 12 13 14]\n"
     ]
    }
   ],
   "source": [
    "#Function of Numpy Arrays - arange()\n",
    "A = mm.arange(15)\n",
    "print(A)"
   ]
  },
  {
   "cell_type": "code",
   "execution_count": 7,
   "id": "technical-genealogy",
   "metadata": {},
   "outputs": [
    {
     "name": "stdout",
     "output_type": "stream",
     "text": [
      "[5 6 7 8 9]\n"
     ]
    }
   ],
   "source": [
    "B= mm.arange(5,10)\n",
    "print(B)"
   ]
  },
  {
   "cell_type": "code",
   "execution_count": 8,
   "id": "excellent-warren",
   "metadata": {},
   "outputs": [
    {
     "name": "stdout",
     "output_type": "stream",
     "text": [
      "[5 7 9]\n"
     ]
    }
   ],
   "source": [
    "C= mm.arange(5,10,2)\n",
    "print(C)"
   ]
  },
  {
   "cell_type": "code",
   "execution_count": 9,
   "id": "atlantic-slide",
   "metadata": {},
   "outputs": [
    {
     "name": "stdout",
     "output_type": "stream",
     "text": [
      "[0.         1.         1.41421356 1.73205081 2.         2.23606798\n",
      " 2.44948974 2.64575131 2.82842712 3.         3.16227766 3.31662479\n",
      " 3.46410162 3.60555128 3.74165739]\n"
     ]
    }
   ],
   "source": [
    "#Function of Numpy Arrays - sqrt()\n",
    "D = mm.sqrt(A)\n",
    "print(D)"
   ]
  },
  {
   "cell_type": "code",
   "execution_count": 10,
   "id": "premier-design",
   "metadata": {},
   "outputs": [
    {
     "name": "stdout",
     "output_type": "stream",
     "text": [
      "[1.00000000e+00 2.71828183e+00 7.38905610e+00 2.00855369e+01\n",
      " 5.45981500e+01 1.48413159e+02 4.03428793e+02 1.09663316e+03\n",
      " 2.98095799e+03 8.10308393e+03 2.20264658e+04 5.98741417e+04\n",
      " 1.62754791e+05 4.42413392e+05 1.20260428e+06]\n"
     ]
    }
   ],
   "source": [
    "#Function of Numpy Arrays - exp()\n",
    "\n",
    "E = mm.exp(A)\n",
    "print(E)"
   ]
  },
  {
   "cell_type": "code",
   "execution_count": 13,
   "id": "attached-classroom",
   "metadata": {},
   "outputs": [
    {
     "name": "stdout",
     "output_type": "stream",
     "text": [
      "[-0.11370195  1.29376098  2.33727725  1.39955151  0.9676692 ]\n",
      "[[-0.67497761  1.3599624   0.35249183  0.2766669  -1.06268264]\n",
      " [ 0.27267379 -0.82115938 -0.76504218  1.32634426 -0.91643898]\n",
      " [-0.33418132  1.12084301  0.01584674  1.06179009  0.24307539]\n",
      " [-0.73448957 -0.28507604  0.59521017  0.7404616   1.38711254]\n",
      " [ 3.04097836 -1.61188878  0.16690452  0.08440647 -0.8816166 ]]\n"
     ]
    }
   ],
   "source": [
    "#Function of Numpy Arrays - random()\n",
    "\n",
    "F=mm.random.randn(5)\n",
    "print(F)\n",
    "\n",
    "F=mm.random.randn(5,5)\n",
    "print(F)"
   ]
  },
  {
   "cell_type": "code",
   "execution_count": 14,
   "id": "tough-european",
   "metadata": {},
   "outputs": [
    {
     "name": "stdout",
     "output_type": "stream",
     "text": [
      "[ 0  1  2  3  4  5  6  7  8  9 10 11 12 13 14]\n",
      "[0.         1.         1.41421356 1.73205081 2.         2.23606798\n",
      " 2.44948974 2.64575131 2.82842712 3.         3.16227766 3.31662479\n",
      " 3.46410162 3.60555128 3.74165739]\n"
     ]
    }
   ],
   "source": [
    "#Function of Numpy Arrays - add()\n",
    "\n",
    "print(A)\n",
    "print(D)\n",
    "G=mm.add(A,D)"
   ]
  },
  {
   "cell_type": "code",
   "execution_count": 18,
   "id": "negative-title",
   "metadata": {},
   "outputs": [
    {
     "name": "stdout",
     "output_type": "stream",
     "text": [
      "[ 1  6  8 10]\n"
     ]
    }
   ],
   "source": [
    "#Function of Numpy Arrays - maximum()\n",
    "#Numpy Additional documentation - numpy.org, docs.scipy.org\n",
    "A = mm.array([1,5,7,10])\n",
    "B = mm.array([0,6,8,9])\n",
    "\n",
    "H= mm.maximum(B,A)\n",
    "print(H)"
   ]
  },
  {
   "cell_type": "code",
   "execution_count": 19,
   "id": "distinct-ratio",
   "metadata": {},
   "outputs": [
    {
     "name": "stdout",
     "output_type": "stream",
     "text": [
      "[0 5 7 9]\n"
     ]
    }
   ],
   "source": [
    "A = mm.array([1,5,7,10])\n",
    "B = mm.array([0,6,8,9])\n",
    "\n",
    "H= mm.minimum(B,A)\n",
    "print(H)"
   ]
  },
  {
   "cell_type": "code",
   "execution_count": null,
   "id": "protected-design",
   "metadata": {},
   "outputs": [],
   "source": []
  }
 ],
 "metadata": {
  "kernelspec": {
   "display_name": "Python 3",
   "language": "python",
   "name": "python3"
  },
  "language_info": {
   "codemirror_mode": {
    "name": "ipython",
    "version": 3
   },
   "file_extension": ".py",
   "mimetype": "text/x-python",
   "name": "python",
   "nbconvert_exporter": "python",
   "pygments_lexer": "ipython3",
   "version": "3.8.8"
  }
 },
 "nbformat": 4,
 "nbformat_minor": 5
}
