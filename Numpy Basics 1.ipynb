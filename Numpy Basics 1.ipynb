{
 "cells": [
  {
   "cell_type": "code",
   "execution_count": null,
   "id": "dietary-angle",
   "metadata": {},
   "outputs": [],
   "source": [
    "#Agenda\n",
    "#Introduction to numpy\n",
    "#creating 1D Numpy Array\n",
    "#creating 2D np Array\n",
    "#Finding Datatype of Array- dtype\n",
    "#Array Creation and initialization Functions- zeros\n",
    "#Array Creation and initialization Functions- ones\n",
    "#Array Creation and initialization Functions- empty\n",
    "#Array Creation and initialization Functions- eye\n",
    "#Array Creation and initialization Functions- arrange\n",
    "#Summarize"
   ]
  },
  {
   "cell_type": "code",
   "execution_count": 1,
   "id": "previous-conversion",
   "metadata": {},
   "outputs": [],
   "source": [
    "import numpy as np"
   ]
  },
  {
   "cell_type": "code",
   "execution_count": 3,
   "id": "choice-passenger",
   "metadata": {},
   "outputs": [
    {
     "name": "stdout",
     "output_type": "stream",
     "text": [
      "[101 102 103]\n"
     ]
    }
   ],
   "source": [
    "#creating 1D Numpy Array\n",
    "\n",
    "mylist1 = [101, 102, 103]\n",
    "\n",
    "myArray = np.array(mylist1)\n",
    "print(myArray)"
   ]
  },
  {
   "cell_type": "code",
   "execution_count": 7,
   "id": "voluntary-distributor",
   "metadata": {},
   "outputs": [
    {
     "name": "stdout",
     "output_type": "stream",
     "text": [
      "[[101 102 103]\n",
      " [201 202 203]]\n"
     ]
    }
   ],
   "source": [
    "#creating 2D np Array\n",
    "mylist2 = [201,202,203]\n",
    "\n",
    "myArray2D = np.array([mylist1, mylist2])\n",
    "print(myArray2D)"
   ]
  },
  {
   "cell_type": "code",
   "execution_count": 8,
   "id": "activated-subject",
   "metadata": {},
   "outputs": [
    {
     "name": "stdout",
     "output_type": "stream",
     "text": [
      "myArray Dimension\n",
      "(3,)\n",
      "myArray2D Demension\n",
      "(2, 3)\n"
     ]
    }
   ],
   "source": [
    "#Finding Shape of Array- shape\n",
    "print(\"myArray Dimension\")\n",
    "print(myArray.shape)\n",
    "print(\"myArray2D Demension\")\n",
    "print(myArray2D.shape)"
   ]
  },
  {
   "cell_type": "code",
   "execution_count": 9,
   "id": "proper-graham",
   "metadata": {},
   "outputs": [
    {
     "name": "stdout",
     "output_type": "stream",
     "text": [
      "myArray Datatype\n",
      "int32\n",
      "myArray2D Datatype\n",
      "int32\n"
     ]
    }
   ],
   "source": [
    "#Finding Datatype of Array- dtype\n",
    "print(\"myArray Datatype\")\n",
    "print(myArray.dtype)\n",
    "print(\"myArray2D Datatype\")\n",
    "print(myArray2D.dtype)"
   ]
  },
  {
   "cell_type": "code",
   "execution_count": 13,
   "id": "further-hormone",
   "metadata": {},
   "outputs": [
    {
     "name": "stdout",
     "output_type": "stream",
     "text": [
      "[0. 0. 0. 0. 0.]\n",
      "[[0. 0. 0. 0. 0. 0.]\n",
      " [0. 0. 0. 0. 0. 0.]\n",
      " [0. 0. 0. 0. 0. 0.]\n",
      " [0. 0. 0. 0. 0. 0.]\n",
      " [0. 0. 0. 0. 0. 0.]]\n"
     ]
    }
   ],
   "source": [
    "#Array Creation and initialization Functions- zeros\n",
    "zero_array = np.zeros(5)\n",
    "print(zero_array)\n",
    "\n",
    "zero_array2D = np.zeros([5, 6])\n",
    "print(zero_array2D)"
   ]
  },
  {
   "cell_type": "code",
   "execution_count": 14,
   "id": "capital-constitution",
   "metadata": {},
   "outputs": [
    {
     "name": "stdout",
     "output_type": "stream",
     "text": [
      "[1. 1. 1. 1. 1.]\n",
      "[[1. 1. 1. 1. 1. 1.]\n",
      " [1. 1. 1. 1. 1. 1.]\n",
      " [1. 1. 1. 1. 1. 1.]\n",
      " [1. 1. 1. 1. 1. 1.]\n",
      " [1. 1. 1. 1. 1. 1.]]\n"
     ]
    }
   ],
   "source": [
    "#Array Creation and initialization Functions- ones\n",
    "zero_array = np.ones(5)\n",
    "print(zero_array)\n",
    "\n",
    "zero_array2D = np.ones([5, 6])\n",
    "print(zero_array2D)"
   ]
  },
  {
   "cell_type": "code",
   "execution_count": 16,
   "id": "deluxe-young",
   "metadata": {},
   "outputs": [
    {
     "name": "stdout",
     "output_type": "stream",
     "text": [
      "1D\n",
      "[1. 1. 1. 1. 1.]\n",
      "2D\n",
      "[[1. 1. 1. 1. 1. 1.]\n",
      " [1. 1. 1. 1. 1. 1.]\n",
      " [1. 1. 1. 1. 1. 1.]\n",
      " [1. 1. 1. 1. 1. 1.]\n",
      " [1. 1. 1. 1. 1. 1.]]\n"
     ]
    }
   ],
   "source": [
    "#Array Creation and initialization Functions- empty\n",
    "zero_array = np.empty(5)\n",
    "print(\"1D\")\n",
    "print(zero_array)\n",
    "print(\"2D\")\n",
    "zero_array2D = np.empty([5, 6])\n",
    "print(zero_array2D)"
   ]
  },
  {
   "cell_type": "code",
   "execution_count": 19,
   "id": "casual-reception",
   "metadata": {},
   "outputs": [
    {
     "name": "stdout",
     "output_type": "stream",
     "text": [
      "[[1. 0.]\n",
      " [0. 1.]]\n"
     ]
    }
   ],
   "source": [
    "#Array Creation and initialization Functions- eye\n",
    "#Summarize\n",
    "identity_Array = np.eye(2)\n",
    "print(identity_Array)"
   ]
  },
  {
   "cell_type": "code",
   "execution_count": 29,
   "id": "systematic-samuel",
   "metadata": {},
   "outputs": [
    {
     "name": "stdout",
     "output_type": "stream",
     "text": [
      "[ 0  2  4  6  8 10 12 14 16 18 20 22 24 26 28 30 32 34 36 38 40 42 44 46\n",
      " 48]\n"
     ]
    }
   ],
   "source": [
    "#Array Creation and initialization Functions- arrange\n",
    "AP_Array= np.arange(0,50,2)\n",
    "print(AP_Array)"
   ]
  },
  {
   "cell_type": "code",
   "execution_count": null,
   "id": "cardiac-impossible",
   "metadata": {},
   "outputs": [],
   "source": []
  }
 ],
 "metadata": {
  "kernelspec": {
   "display_name": "Python 3",
   "language": "python",
   "name": "python3"
  },
  "language_info": {
   "codemirror_mode": {
    "name": "ipython",
    "version": 3
   },
   "file_extension": ".py",
   "mimetype": "text/x-python",
   "name": "python",
   "nbconvert_exporter": "python",
   "pygments_lexer": "ipython3",
   "version": "3.8.8"
  }
 },
 "nbformat": 4,
 "nbformat_minor": 5
}
