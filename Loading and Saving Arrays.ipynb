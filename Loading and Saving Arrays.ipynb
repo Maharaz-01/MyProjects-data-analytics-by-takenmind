{
 "cells": [
  {
   "cell_type": "code",
   "execution_count": null,
   "id": "requested-julian",
   "metadata": {},
   "outputs": [],
   "source": [
    "#Agenda\n",
    "#why do we need to save arrays to hard drive?\n",
    "#saving single Array\n",
    "#Loading single array\n",
    "#Saving array to text file\n",
    "#loading array from text file\n",
    "#what is a delimiter"
   ]
  },
  {
   "cell_type": "code",
   "execution_count": 1,
   "id": "simplified-finder",
   "metadata": {},
   "outputs": [],
   "source": [
    "import numpy as mm"
   ]
  },
  {
   "cell_type": "code",
   "execution_count": 2,
   "id": "impressed-karen",
   "metadata": {},
   "outputs": [
    {
     "name": "stdout",
     "output_type": "stream",
     "text": [
      "[0 1 2 3 4 5 6 7 8 9]\n"
     ]
    }
   ],
   "source": [
    "arr= mm.arange(10)\n",
    "print(arr)"
   ]
  },
  {
   "cell_type": "code",
   "execution_count": 3,
   "id": "transsexual-swift",
   "metadata": {},
   "outputs": [],
   "source": [
    "#saving single Array\n",
    "\n",
    "mm.save('saved_array', arr)"
   ]
  },
  {
   "cell_type": "code",
   "execution_count": 4,
   "id": "twenty-execution",
   "metadata": {},
   "outputs": [
    {
     "name": "stdout",
     "output_type": "stream",
     "text": [
      "[0 1 2 3 4 5 6 7 8 9]\n"
     ]
    }
   ],
   "source": [
    "#Loading single array\n",
    "# Saving array to text file\n",
    "# loading array from text file\n",
    "#what is a delimiter\n",
    "load_array1 = mm.load('saved_array.npy')\n",
    "print(load_array1)"
   ]
  },
  {
   "cell_type": "code",
   "execution_count": 10,
   "id": "automated-voluntary",
   "metadata": {},
   "outputs": [],
   "source": [
    "#Saving multiple array\n",
    "# Saving array to text file\n",
    "# Saving array to text file\n",
    "#what is a delimiter\n",
    "arr2 = mm.arange(25)\n",
    "arr3 = mm.arange(5)\n",
    "mm.savez('saved_archieve.npz', x=arr2, y=arr3)"
   ]
  },
  {
   "cell_type": "code",
   "execution_count": 11,
   "id": "nominated-register",
   "metadata": {},
   "outputs": [
    {
     "name": "stdout",
     "output_type": "stream",
     "text": [
      "[ 0  1  2  3  4  5  6  7  8  9 10 11 12 13 14 15 16 17 18 19 20 21 22 23\n",
      " 24]\n",
      "[0 1 2 3 4]\n"
     ]
    }
   ],
   "source": [
    "# loading array from text file\n",
    "load_npz = mm.load('saved_archieve.npz')\n",
    "print(load_npz ['x'])\n",
    "print(load_npz['y'])"
   ]
  },
  {
   "cell_type": "code",
   "execution_count": 14,
   "id": "tamil-botswana",
   "metadata": {},
   "outputs": [],
   "source": [
    "mm.savetxt('myarray.txt', arr2, delimiter=',')"
   ]
  },
  {
   "cell_type": "code",
   "execution_count": null,
   "id": "matched-symposium",
   "metadata": {},
   "outputs": [],
   "source": []
  }
 ],
 "metadata": {
  "kernelspec": {
   "display_name": "Python 3",
   "language": "python",
   "name": "python3"
  },
  "language_info": {
   "codemirror_mode": {
    "name": "ipython",
    "version": 3
   },
   "file_extension": ".py",
   "mimetype": "text/x-python",
   "name": "python",
   "nbconvert_exporter": "python",
   "pygments_lexer": "ipython3",
   "version": "3.8.8"
  }
 },
 "nbformat": 4,
 "nbformat_minor": 5
}
