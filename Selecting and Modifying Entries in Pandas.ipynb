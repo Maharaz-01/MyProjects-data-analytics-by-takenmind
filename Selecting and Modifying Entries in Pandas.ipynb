{
 "cells": [
  {
   "cell_type": "code",
   "execution_count": null,
   "id": "alpine-puzzle",
   "metadata": {},
   "outputs": [],
   "source": [
    "#Agenda"
   ]
  },
  {
   "cell_type": "code",
   "execution_count": 1,
   "id": "sublime-burst",
   "metadata": {},
   "outputs": [],
   "source": [
    "import numpy as mm\n",
    "import pandas as pd\n",
    "from pandas import Series, DataFrame"
   ]
  },
  {
   "cell_type": "code",
   "execution_count": 2,
   "id": "written-savannah",
   "metadata": {},
   "outputs": [
    {
     "name": "stdout",
     "output_type": "stream",
     "text": [
      "a    100\n",
      "b    200\n",
      "c    300\n",
      "dtype: int64\n"
     ]
    }
   ],
   "source": [
    "series1 = Series([100,200,300], index=['a', 'b', 'c'])\n",
    "print(series1)"
   ]
  },
  {
   "cell_type": "code",
   "execution_count": 3,
   "id": "human-phase",
   "metadata": {},
   "outputs": [
    {
     "data": {
      "text/plain": [
       "100"
      ]
     },
     "execution_count": 3,
     "metadata": {},
     "output_type": "execute_result"
    }
   ],
   "source": [
    "#access single element in series\n",
    "series1['a']"
   ]
  },
  {
   "cell_type": "code",
   "execution_count": 4,
   "id": "close-residence",
   "metadata": {},
   "outputs": [
    {
     "data": {
      "text/plain": [
       "200"
      ]
     },
     "execution_count": 4,
     "metadata": {},
     "output_type": "execute_result"
    }
   ],
   "source": [
    "#access single element in series\n",
    "series1['b']"
   ]
  },
  {
   "cell_type": "code",
   "execution_count": 5,
   "id": "operating-opposition",
   "metadata": {},
   "outputs": [
    {
     "data": {
      "text/plain": [
       "a    100\n",
       "c    300\n",
       "dtype: int64"
      ]
     },
     "execution_count": 5,
     "metadata": {},
     "output_type": "execute_result"
    }
   ],
   "source": [
    "#access multiple element in series\n",
    "series1[ ['a', 'c']]"
   ]
  },
  {
   "cell_type": "code",
   "execution_count": 6,
   "id": "stopped-buffalo",
   "metadata": {},
   "outputs": [
    {
     "data": {
      "text/plain": [
       "300"
      ]
     },
     "execution_count": 6,
     "metadata": {},
     "output_type": "execute_result"
    }
   ],
   "source": [
    "#using Numerical Indexes\n",
    "series1[2]"
   ]
  },
  {
   "cell_type": "code",
   "execution_count": 9,
   "id": "impressed-poultry",
   "metadata": {},
   "outputs": [
    {
     "data": {
      "text/plain": [
       "b    200\n",
       "c    300\n",
       "dtype: int64"
      ]
     },
     "execution_count": 9,
     "metadata": {},
     "output_type": "execute_result"
    }
   ],
   "source": [
    "#conditional indexes\n",
    "series1[series1 >= 200]"
   ]
  },
  {
   "cell_type": "code",
   "execution_count": 10,
   "id": "arranged-portland",
   "metadata": {},
   "outputs": [
    {
     "data": {
      "text/plain": [
       "b    200\n",
       "dtype: int64"
      ]
     },
     "execution_count": 10,
     "metadata": {},
     "output_type": "execute_result"
    }
   ],
   "source": [
    "series1[series1== 200]"
   ]
  },
  {
   "cell_type": "code",
   "execution_count": 11,
   "id": "facial-puzzle",
   "metadata": {},
   "outputs": [
    {
     "name": "stdout",
     "output_type": "stream",
     "text": [
      "       c1  c2  c3\n",
      "car     0   1   2\n",
      "bike    3   4   5\n",
      "cycle   6   7   8\n"
     ]
    }
   ],
   "source": [
    "#acessing one or more column data from a dataframe\n",
    "df1= DataFrame(mm.arange(9).reshape(3,3), index=['car', 'bike', 'cycle'], columns=['c1','c2', 'c3'])\n",
    "print(df1)"
   ]
  },
  {
   "cell_type": "code",
   "execution_count": 12,
   "id": "failing-swaziland",
   "metadata": {},
   "outputs": [
    {
     "data": {
      "text/plain": [
       "car      2\n",
       "bike     5\n",
       "cycle    8\n",
       "Name: c3, dtype: int32"
      ]
     },
     "execution_count": 12,
     "metadata": {},
     "output_type": "execute_result"
    }
   ],
   "source": [
    "df1['c3']"
   ]
  },
  {
   "cell_type": "code",
   "execution_count": 14,
   "id": "ideal-sheep",
   "metadata": {},
   "outputs": [
    {
     "data": {
      "text/html": [
       "<div>\n",
       "<style scoped>\n",
       "    .dataframe tbody tr th:only-of-type {\n",
       "        vertical-align: middle;\n",
       "    }\n",
       "\n",
       "    .dataframe tbody tr th {\n",
       "        vertical-align: top;\n",
       "    }\n",
       "\n",
       "    .dataframe thead th {\n",
       "        text-align: right;\n",
       "    }\n",
       "</style>\n",
       "<table border=\"1\" class=\"dataframe\">\n",
       "  <thead>\n",
       "    <tr style=\"text-align: right;\">\n",
       "      <th></th>\n",
       "      <th>c1</th>\n",
       "      <th>c3</th>\n",
       "    </tr>\n",
       "  </thead>\n",
       "  <tbody>\n",
       "    <tr>\n",
       "      <th>car</th>\n",
       "      <td>0</td>\n",
       "      <td>2</td>\n",
       "    </tr>\n",
       "    <tr>\n",
       "      <th>bike</th>\n",
       "      <td>3</td>\n",
       "      <td>5</td>\n",
       "    </tr>\n",
       "    <tr>\n",
       "      <th>cycle</th>\n",
       "      <td>6</td>\n",
       "      <td>8</td>\n",
       "    </tr>\n",
       "  </tbody>\n",
       "</table>\n",
       "</div>"
      ],
      "text/plain": [
       "       c1  c3\n",
       "car     0   2\n",
       "bike    3   5\n",
       "cycle   6   8"
      ]
     },
     "execution_count": 14,
     "metadata": {},
     "output_type": "execute_result"
    }
   ],
   "source": [
    "df1[['c1', 'c3']]"
   ]
  },
  {
   "cell_type": "code",
   "execution_count": 15,
   "id": "prerequisite-therapy",
   "metadata": {},
   "outputs": [
    {
     "data": {
      "text/html": [
       "<div>\n",
       "<style scoped>\n",
       "    .dataframe tbody tr th:only-of-type {\n",
       "        vertical-align: middle;\n",
       "    }\n",
       "\n",
       "    .dataframe tbody tr th {\n",
       "        vertical-align: top;\n",
       "    }\n",
       "\n",
       "    .dataframe thead th {\n",
       "        text-align: right;\n",
       "    }\n",
       "</style>\n",
       "<table border=\"1\" class=\"dataframe\">\n",
       "  <thead>\n",
       "    <tr style=\"text-align: right;\">\n",
       "      <th></th>\n",
       "      <th>c1</th>\n",
       "      <th>c2</th>\n",
       "      <th>c3</th>\n",
       "    </tr>\n",
       "  </thead>\n",
       "  <tbody>\n",
       "    <tr>\n",
       "      <th>car</th>\n",
       "      <td>False</td>\n",
       "      <td>False</td>\n",
       "      <td>False</td>\n",
       "    </tr>\n",
       "    <tr>\n",
       "      <th>bike</th>\n",
       "      <td>False</td>\n",
       "      <td>False</td>\n",
       "      <td>False</td>\n",
       "    </tr>\n",
       "    <tr>\n",
       "      <th>cycle</th>\n",
       "      <td>True</td>\n",
       "      <td>True</td>\n",
       "      <td>True</td>\n",
       "    </tr>\n",
       "  </tbody>\n",
       "</table>\n",
       "</div>"
      ],
      "text/plain": [
       "          c1     c2     c3\n",
       "car    False  False  False\n",
       "bike   False  False  False\n",
       "cycle   True   True   True"
      ]
     },
     "execution_count": 15,
     "metadata": {},
     "output_type": "execute_result"
    }
   ],
   "source": [
    "#boolean operations in dataframe\n",
    "df1 > 5"
   ]
  },
  {
   "cell_type": "code",
   "execution_count": 16,
   "id": "impressive-billion",
   "metadata": {},
   "outputs": [
    {
     "data": {
      "text/plain": [
       "c1    0\n",
       "c2    1\n",
       "c3    2\n",
       "Name: car, dtype: int32"
      ]
     },
     "execution_count": 16,
     "metadata": {},
     "output_type": "execute_result"
    }
   ],
   "source": [
    "#using the dataframe.loc[] attribute\n",
    "df1.loc['car']"
   ]
  },
  {
   "cell_type": "code",
   "execution_count": 17,
   "id": "brazilian-annotation",
   "metadata": {},
   "outputs": [
    {
     "data": {
      "text/plain": [
       "car      0\n",
       "bike     3\n",
       "cycle    6\n",
       "Name: c1, dtype: int32"
      ]
     },
     "execution_count": 17,
     "metadata": {},
     "output_type": "execute_result"
    }
   ],
   "source": [
    "df1.loc[:, 'c1']"
   ]
  },
  {
   "cell_type": "code",
   "execution_count": 18,
   "id": "north-capture",
   "metadata": {},
   "outputs": [
    {
     "data": {
      "text/plain": [
       "3"
      ]
     },
     "execution_count": 18,
     "metadata": {},
     "output_type": "execute_result"
    }
   ],
   "source": [
    "df1.loc['bike', 'c1']"
   ]
  },
  {
   "cell_type": "code",
   "execution_count": null,
   "id": "beautiful-airplane",
   "metadata": {},
   "outputs": [],
   "source": []
  }
 ],
 "metadata": {
  "kernelspec": {
   "display_name": "Python 3",
   "language": "python",
   "name": "python3"
  },
  "language_info": {
   "codemirror_mode": {
    "name": "ipython",
    "version": 3
   },
   "file_extension": ".py",
   "mimetype": "text/x-python",
   "name": "python",
   "nbconvert_exporter": "python",
   "pygments_lexer": "ipython3",
   "version": "3.8.8"
  }
 },
 "nbformat": 4,
 "nbformat_minor": 5
}
