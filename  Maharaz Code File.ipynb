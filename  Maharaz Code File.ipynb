{
 "cells": [
  {
   "cell_type": "code",
   "execution_count": 2,
   "id": "indie-mixer",
   "metadata": {},
   "outputs": [],
   "source": [
    "import pandas as mm"
   ]
  },
  {
   "cell_type": "code",
   "execution_count": 4,
   "id": "forward-stone",
   "metadata": {},
   "outputs": [
    {
     "name": "stdout",
     "output_type": "stream",
     "text": [
      "   first_name,\"last_name\",\"company_name\",\"address\",\"city\",\"county\",\"postal\",\"phone1\",\"phone2\",\"email\",\"web\"\n",
      "0   Aleshia,\"Tomkiewicz\",\"Alan D Rosenburg Cpa Pc\"...                                                      \n",
      "1   Evan,\"Zigomalas\",\"Cap Gemini America\",\"5 Binne...                                                      \n",
      "2   France,\"Andrade\",\"Elliott, John W Esq\",\"8 Moor...                                                      \n",
      "3   Ulysses,\"Mcwalters\",\"Mcmahan, Ben L\",\"505 Exet...                                                      \n",
      "4   Tyisha,\"Veness\",\"Champagne Room\",\"5396 Forth S...                                                      \n",
      "5   Eric,\"Rampy\",\"Thompson, Michael C Esq\",\"9472 L...                                                      \n",
      "6   Marg,\"Grasmick\",\"Wrangle Hill Auto Auct & Slvg...                                                      \n",
      "7   Laquita,\"Hisaw\",\"In Communications Inc\",\"20 Gl...                                                      \n",
      "8   Lura,\"Manzella\",\"Bizerba Usa Inc\",\"929 Augusti...                                                      \n",
      "9   Yuette,\"Klapec\",\"Max Video\",\"45 Bradfield St #...                                                      \n",
      "10  Fernanda,\"Writer\",\"K & R Associates Inc\",\"620 ...                                                      \n",
      "11  Charlesetta,\"Erm\",\"Cain, John M Esq\",\"5 Hygeia...                                                      \n",
      "12  Corrinne,\"Jaret\",\"Sound Vision Corp\",\"2150 Mor...                                                      \n",
      "13  Niesha,\"Bruch\",\"Rowley/hansell Petetin\",\"24 Bo...                                                      \n",
      "14  Rueben,\"Gastellum\",\"Industrial Engineering Ass...                                                      \n",
      "15  Michell,\"Throssell\",\"Weiss Spirt & Guyer\",\"89 ...                                                      \n",
      "16  Edgar,\"Kanne\",\"Crowan, Kenneth W Esq\",\"99 Guth...                                                      \n",
      "17  Dewitt,\"Julio\",\"Rittenhouse Motor Co\",\"7 Richm...                                                      \n",
      "18  Charisse,\"Spinello\",\"Modern Plastics Corp\",\"91...                                                      \n",
      "19  Mee,\"Lapinski\",\"Galloway Electric Co Inc\",\"9 P...                                                      \n",
      "20  Peter,\"Gutierres\",\"Niagara Custombuilt Mfg Co\"...                                                      \n",
      "21  Octavio,\"Salvadore\",\"Practical Periphrals\",\"69...                                                      \n",
      "22  Martha,\"Teplica\",\"Curtin, Patricia M Esq\",\"148...                                                      \n",
      "23  Tamesha,\"Veigel\",\"Wilhelm, James E Jr\",\"2200 N...                                                      \n",
      "24  Tess,\"Sitra\",\"Smart Signs\",\"61 Rossett St\",\"Ch...                                                      \n",
      "25  Leonard,\"Kufner\",\"Arctic Star Distributing Inc...                                                      \n",
      "26  Svetlana,\"Tauras\",\"Lensbower, Gregory L Esq\",\"...                                                      \n",
      "27  Pok,\"Molaison\",\"Portal Metal Products\",\"211 Ho...                                                      \n",
      "28  Augustine,\"Growcock\",\"Lynema, Cliff Cpa\",\"114 ...                                                      \n",
      "29  Karma,\"Quarto\",\"J C S Machinery\",\"1 Birkett St...                                                      \n",
      "30  Reed,\"Weisinger\",\"Berick, Joseph G Esq\",\"5147 ...                                                      \n",
      "31  German,\"Zelaya\",\"Jackson & Heit Machine Co Inc...                                                      \n",
      "32  Milly,\"Savidge\",\"Bridgeway Plan For Health\",\"1...                                                      \n",
      "33  Luis,\"Ear\",\"Wa Inst For Plcy Studies\",\"2 Birch...                                                      \n",
      "34  Ciara,\"Cobbley\",\"Wmgl 101.7 Fm\",\"7523 Kempton ...                                                      \n",
      "35  Alethea,\"Mould\",\"Hughlett, Henry T Jr\",\"6305 E...                                                      \n",
      "36  Margurite,\"Loperfido\",\"Penrose Place Pharmacy ...                                                      \n",
      "37  Vernice,\"Sperazza\",\"Novak, Alan Paul Esq\",\"892...                                                      \n"
     ]
    }
   ],
   "source": [
    "exf=pd.ExcelFile(\"InputFile.xlsx\")\n",
    "sheet1=exf.parse('InputFile')\n",
    "sheet2=exf.parse('Sheet1')\n",
    "sheet3=exf.parse('Sheet2')\n",
    "sheet4=exf.parse('Sheet3')\n",
    "sheet5=exf.parse('Sheet4')\n",
    "sheet6=exf.parse('Sheet5')\n",
    "sheet7=exf.parse('Sheet6')\n",
    "sheet8=exf.parse('Sheet7')\n",
    "sheet9=exf.parse('Sheet8')\n",
    "sheet10=exf.parse('Sheet9')\n",
    "\n",
    "#Display the sheet1\n",
    "print(sheet1)\n",
    "\n",
    "sheet1.to_csv('Sheet1_convert.csv')\n",
    "sheet2.to_csv('Sheet2_convert.csv')\n",
    "sheet3.to_csv('Sheet3_convert.csv')\n",
    "sheet4.to_csv('Sheet4_convert.csv')\n",
    "sheet5.to_csv('Sheet5_convert.csv')\n",
    "sheet6.to_csv('Sheet6_convert.csv')\n",
    "sheet7.to_csv('Sheet7_convert.csv')\n",
    "sheet8.to_csv('Sheet8_convert.csv')\n",
    "sheet9.to_csv('Sheet9_convert.csv')\n",
    "sheet10.to_csv('Sheet10_convert.csv')"
   ]
  },
  {
   "cell_type": "code",
   "execution_count": null,
   "id": "complicated-horizon",
   "metadata": {},
   "outputs": [],
   "source": []
  }
 ],
 "metadata": {
  "kernelspec": {
   "display_name": "Python 3",
   "language": "python",
   "name": "python3"
  },
  "language_info": {
   "codemirror_mode": {
    "name": "ipython",
    "version": 3
   },
   "file_extension": ".py",
   "mimetype": "text/x-python",
   "name": "python",
   "nbconvert_exporter": "python",
   "pygments_lexer": "ipython3",
   "version": "3.8.8"
  }
 },
 "nbformat": 4,
 "nbformat_minor": 5
}
