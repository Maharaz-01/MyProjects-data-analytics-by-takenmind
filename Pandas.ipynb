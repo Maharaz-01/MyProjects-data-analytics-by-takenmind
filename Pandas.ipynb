{
 "cells": [
  {
   "cell_type": "code",
   "execution_count": null,
   "id": "intermediate-model",
   "metadata": {},
   "outputs": [],
   "source": [
    "#Agenda\n",
    "#what is m pandas\n",
    "#what is series\n",
    "# "
   ]
  },
  {
   "cell_type": "code",
   "execution_count": 1,
   "id": "analyzed-resident",
   "metadata": {},
   "outputs": [],
   "source": [
    "import numpy as mm"
   ]
  },
  {
   "cell_type": "code",
   "execution_count": 2,
   "id": "applied-motorcycle",
   "metadata": {},
   "outputs": [
    {
     "name": "stdout",
     "output_type": "stream",
     "text": [
      "Requirement already satisfied: pandas in c:\\users\\user\\appdata\\local\\programs\\python\\python38\\lib\\site-packages (1.2.2)\n",
      "Requirement already satisfied: python-dateutil>=2.7.3 in c:\\users\\user\\appdata\\local\\programs\\python\\python38\\lib\\site-packages (from pandas) (2.8.1)\n",
      "Requirement already satisfied: numpy>=1.16.5 in c:\\users\\user\\appdata\\local\\programs\\python\\python38\\lib\\site-packages (from pandas) (1.20.1)\n",
      "Requirement already satisfied: pytz>=2017.3 in c:\\users\\user\\appdata\\local\\programs\\python\\python38\\lib\\site-packages (from pandas) (2021.1)\n",
      "Requirement already satisfied: six>=1.5 in c:\\users\\user\\appdata\\local\\programs\\python\\python38\\lib\\site-packages (from python-dateutil>=2.7.3->pandas) (1.15.0)\n"
     ]
    },
    {
     "name": "stderr",
     "output_type": "stream",
     "text": [
      "WARNING: You are using pip version 20.2.3; however, version 21.0.1 is available.\n",
      "You should consider upgrading via the 'c:\\users\\user\\appdata\\local\\programs\\python\\python38\\python.exe -m pip install --upgrade pip' command.\n"
     ]
    }
   ],
   "source": [
    "!pip install pandas"
   ]
  },
  {
   "cell_type": "code",
   "execution_count": 9,
   "id": "coastal-founder",
   "metadata": {},
   "outputs": [],
   "source": [
    "import pandas as pd\n",
    "from pandas import Series"
   ]
  },
  {
   "cell_type": "code",
   "execution_count": 11,
   "id": "favorite-athens",
   "metadata": {},
   "outputs": [
    {
     "name": "stdout",
     "output_type": "stream",
     "text": [
      "0     5\n",
      "1    10\n",
      "2    15\n",
      "3    20\n",
      "dtype: int64\n"
     ]
    }
   ],
   "source": [
    "#create a simple series variable\n",
    "s1 = Series ([5,10,15,20])\n",
    "print(s1)"
   ]
  },
  {
   "cell_type": "code",
   "execution_count": 12,
   "id": "protective-insertion",
   "metadata": {},
   "outputs": [
    {
     "name": "stdout",
     "output_type": "stream",
     "text": [
      "RangeIndex(start=0, stop=4, step=1)\n"
     ]
    }
   ],
   "source": [
    "print(s1.index)"
   ]
  },
  {
   "cell_type": "code",
   "execution_count": 13,
   "id": "noted-shareware",
   "metadata": {},
   "outputs": [
    {
     "name": "stdout",
     "output_type": "stream",
     "text": [
      "[ 5 10 15 20]\n"
     ]
    }
   ],
   "source": [
    "print(s1.values)"
   ]
  },
  {
   "cell_type": "code",
   "execution_count": 15,
   "id": "engaged-importance",
   "metadata": {
    "scrolled": true
   },
   "outputs": [
    {
     "name": "stdout",
     "output_type": "stream",
     "text": [
      "[400 300 200 100]\n"
     ]
    }
   ],
   "source": [
    "#create a Series from numpy\n",
    "revenue_array = mm.array([400,300,200,100])\n",
    "print(revenue_array)"
   ]
  },
  {
   "cell_type": "code",
   "execution_count": 16,
   "id": "local-punch",
   "metadata": {},
   "outputs": [
    {
     "name": "stdout",
     "output_type": "stream",
     "text": [
      "0    400\n",
      "1    300\n",
      "2    200\n",
      "3    100\n",
      "dtype: int32\n"
     ]
    }
   ],
   "source": [
    "revenue_series = Series(revenue_array)\n",
    "print(revenue_series)"
   ]
  },
  {
   "cell_type": "code",
   "execution_count": 18,
   "id": "paperback-petite",
   "metadata": {},
   "outputs": [
    {
     "name": "stdout",
     "output_type": "stream",
     "text": [
      "uber     400\n",
      "ola      300\n",
      "gojek    200\n",
      "lyit     100\n",
      "dtype: int32\n"
     ]
    }
   ],
   "source": [
    "#create series wih custom indexes\n",
    "revenue= Series(revenue_array, index = ['uber', 'ola', 'gojek', 'lyit'])\n",
    "print(revenue)"
   ]
  },
  {
   "cell_type": "code",
   "execution_count": 19,
   "id": "sixth-extra",
   "metadata": {},
   "outputs": [
    {
     "data": {
      "text/plain": [
       "300"
      ]
     },
     "execution_count": 19,
     "metadata": {},
     "output_type": "execute_result"
    }
   ],
   "source": [
    "revenue['ola']"
   ]
  },
  {
   "cell_type": "code",
   "execution_count": 21,
   "id": "enclosed-nancy",
   "metadata": {},
   "outputs": [
    {
     "data": {
      "text/plain": [
       "400"
      ]
     },
     "execution_count": 21,
     "metadata": {},
     "output_type": "execute_result"
    }
   ],
   "source": [
    "revenue['uber']"
   ]
  },
  {
   "cell_type": "code",
   "execution_count": 22,
   "id": "heavy-agency",
   "metadata": {},
   "outputs": [
    {
     "name": "stdout",
     "output_type": "stream",
     "text": [
      "uber    400\n",
      "ola     300\n",
      "dtype: int32\n"
     ]
    }
   ],
   "source": [
    "#filter a series base on condition\n",
    "print(revenue[revenue>250])"
   ]
  },
  {
   "cell_type": "code",
   "execution_count": 23,
   "id": "adjacent-queen",
   "metadata": {},
   "outputs": [
    {
     "name": "stdout",
     "output_type": "stream",
     "text": [
      "False\n"
     ]
    }
   ],
   "source": [
    "#check whether an element is a series\n",
    "print('grab' in revenue)"
   ]
  },
  {
   "cell_type": "code",
   "execution_count": 35,
   "id": "active-closing",
   "metadata": {},
   "outputs": [
    {
     "name": "stdout",
     "output_type": "stream",
     "text": [
      "{'uber': 400, 'ola': 300, 'gojek': 200, 'lyit': 100}\n"
     ]
    }
   ],
   "source": [
    "#to_dict() function\n",
    "revenue_dict = revenue.to_dict()\n",
    "print(revenue_dict)"
   ]
  },
  {
   "cell_type": "code",
   "execution_count": 25,
   "id": "seasonal-silence",
   "metadata": {},
   "outputs": [
    {
     "name": "stdout",
     "output_type": "stream",
     "text": [
      "uber     800\n",
      "ola      600\n",
      "gojek    400\n",
      "lyit     200\n",
      "dtype: int32\n"
     ]
    }
   ],
   "source": [
    "#addition of 2 series\n",
    "print(revenue + revenue)"
   ]
  },
  {
   "cell_type": "code",
   "execution_count": 48,
   "id": "laden-natural",
   "metadata": {},
   "outputs": [
    {
     "name": "stdout",
     "output_type": "stream",
     "text": [
      "company name\n",
      "uber     400\n",
      "ola      300\n",
      "gojek    200\n",
      "lyit     100\n",
      "Name: company - Revenue, dtype: int32\n"
     ]
    }
   ],
   "source": [
    "#assign names to a series and its index\n",
    "revenue.name = \"company - Revenue\"\n",
    "revenue.index.name = \"company name\"\n",
    "print(revenue)"
   ]
  },
  {
   "cell_type": "code",
   "execution_count": null,
   "id": "induced-jacket",
   "metadata": {},
   "outputs": [],
   "source": []
  },
  {
   "cell_type": "code",
   "execution_count": null,
   "id": "optical-maximum",
   "metadata": {},
   "outputs": [],
   "source": []
  }
 ],
 "metadata": {
  "kernelspec": {
   "display_name": "Python 3",
   "language": "python",
   "name": "python3"
  },
  "language_info": {
   "codemirror_mode": {
    "name": "ipython",
    "version": 3
   },
   "file_extension": ".py",
   "mimetype": "text/x-python",
   "name": "python",
   "nbconvert_exporter": "python",
   "pygments_lexer": "ipython3",
   "version": "3.8.8"
  }
 },
 "nbformat": 4,
 "nbformat_minor": 5
}
