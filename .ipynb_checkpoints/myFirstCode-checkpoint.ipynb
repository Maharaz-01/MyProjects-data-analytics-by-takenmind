{
 "cells": [
  {
   "cell_type": "code",
   "execution_count": null,
   "id": "alpha-chicago",
   "metadata": {},
   "outputs": [],
   "source": [
    "a = 1"
   ]
  },
  {
   "cell_type": "code",
   "execution_count": null,
   "id": "voluntary-cursor",
   "metadata": {},
   "outputs": [],
   "source": [
    "b = 2"
   ]
  },
  {
   "cell_type": "code",
   "execution_count": null,
   "id": "loving-philadelphia",
   "metadata": {},
   "outputs": [],
   "source": [
    "c = int(input())"
   ]
  },
  {
   "cell_type": "code",
   "execution_count": null,
   "id": "moving-agenda",
   "metadata": {},
   "outputs": [],
   "source": [
    "d = a+b+c"
   ]
  },
  {
   "cell_type": "code",
   "execution_count": null,
   "id": "respective-lover",
   "metadata": {},
   "outputs": [],
   "source": [
    "print(d)"
   ]
  }
 ],
 "metadata": {
  "kernelspec": {
   "display_name": "Python 3",
   "language": "python",
   "name": "python3"
  },
  "language_info": {
   "codemirror_mode": {
    "name": "ipython",
    "version": 3
   },
   "file_extension": ".py",
   "mimetype": "text/x-python",
   "name": "python",
   "nbconvert_exporter": "python",
   "pygments_lexer": "ipython3",
   "version": "3.8.8"
  }
 },
 "nbformat": 4,
 "nbformat_minor": 5
}
