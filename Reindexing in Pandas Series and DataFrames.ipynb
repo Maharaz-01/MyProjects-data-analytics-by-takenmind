{
 "cells": [
  {
   "cell_type": "code",
   "execution_count": null,
   "id": "corresponding-marker",
   "metadata": {},
   "outputs": [],
   "source": [
    "#Reindexing in series - reindex () method\n",
    "#Reindexing in series - reindex () method with fill_value\n",
    "#Reindexing in series - forwardfill\n",
    "#Reindexing in dataFrame"
   ]
  },
  {
   "cell_type": "code",
   "execution_count": 1,
   "id": "noted-homeless",
   "metadata": {},
   "outputs": [],
   "source": [
    "import numpy as mm\n",
    "import pandas as pd\n",
    "from pandas import Series, DataFrame"
   ]
  },
  {
   "cell_type": "code",
   "execution_count": 5,
   "id": "offensive-memorabilia",
   "metadata": {},
   "outputs": [
    {
     "name": "stdout",
     "output_type": "stream",
     "text": [
      "a    1\n",
      "b    2\n",
      "c    3\n",
      "d    4\n",
      "dtype: int64\n"
     ]
    }
   ],
   "source": [
    "s1 = Series([1,2,3,4], index=['a', 'b', 'c', 'd'])\n",
    "print(s1)"
   ]
  },
  {
   "cell_type": "code",
   "execution_count": 6,
   "id": "above-chocolate",
   "metadata": {},
   "outputs": [
    {
     "name": "stdout",
     "output_type": "stream",
     "text": [
      "a    1.0\n",
      "b    2.0\n",
      "c    3.0\n",
      "d    4.0\n",
      "e    NaN\n",
      "f    NaN\n",
      "dtype: float64\n"
     ]
    }
   ],
   "source": [
    "s1= s1.reindex(['a','b','c','d','e', 'f'])\n",
    "print(s1)"
   ]
  },
  {
   "cell_type": "code",
   "execution_count": 7,
   "id": "dynamic-combining",
   "metadata": {},
   "outputs": [
    {
     "name": "stdout",
     "output_type": "stream",
     "text": [
      "a      1.0\n",
      "b      2.0\n",
      "c      3.0\n",
      "d      4.0\n",
      "e      NaN\n",
      "f      NaN\n",
      "g    100.0\n",
      "dtype: float64\n"
     ]
    }
   ],
   "source": [
    "#Reindexing in series - reindex () method with fill_value\n",
    "s1= s1.reindex(['a','b','c','d','e', 'f','g'], fill_value=100)\n",
    "print(s1)"
   ]
  },
  {
   "cell_type": "code",
   "execution_count": 8,
   "id": "satisfactory-indonesia",
   "metadata": {},
   "outputs": [
    {
     "name": "stdout",
     "output_type": "stream",
     "text": [
      "0     Audi\n",
      "4    Honda\n",
      "8      BMW\n",
      "dtype: object\n"
     ]
    }
   ],
   "source": [
    "#Reindexing in series - forwardfill\n",
    "cars = Series (['Audi', 'Honda', 'BMW'], index=[0,4,8])\n",
    "print(cars)"
   ]
  },
  {
   "cell_type": "code",
   "execution_count": 12,
   "id": "useful-pottery",
   "metadata": {},
   "outputs": [
    {
     "name": "stdout",
     "output_type": "stream",
     "text": [
      "0      Audi\n",
      "1      Audi\n",
      "2      Audi\n",
      "3      Audi\n",
      "4     Honda\n",
      "5     Honda\n",
      "6     Honda\n",
      "7     Honda\n",
      "8       BMW\n",
      "9       BMW\n",
      "10      BMW\n",
      "11      BMW\n",
      "dtype: object\n"
     ]
    }
   ],
   "source": [
    "#Reindexing in series - forwardfill\n",
    "new_index = range(12)\n",
    "cars= cars.reindex(new_index, method=\"ffill\")\n",
    "print(cars)"
   ]
  },
  {
   "cell_type": "code",
   "execution_count": 15,
   "id": "international-qatar",
   "metadata": {},
   "outputs": [
    {
     "name": "stdout",
     "output_type": "stream",
     "text": [
      "         c1        c2        c3        c4        c5\n",
      "a -0.456449 -0.574734  1.044940 -0.570835 -0.392458\n",
      "b -0.345683 -0.744499 -0.313432  0.051391 -0.606782\n",
      "c  2.525894  0.192157  0.112057  0.038515 -0.889730\n",
      "d -0.961663  0.340553 -0.610189 -2.398438  0.426963\n",
      "e -1.774811  1.645488  0.257097  1.843888  0.243852\n"
     ]
    }
   ],
   "source": [
    "#Reindexing in dataFrame\n",
    "df1 = DataFrame(mm.random.randn(25).reshape(5,5), index=['a','b','c','d','e'], columns=['c1','c2','c3','c4','c5'])\n",
    "print(df1)"
   ]
  },
  {
   "cell_type": "code",
   "execution_count": 19,
   "id": "valuable-palestinian",
   "metadata": {},
   "outputs": [
    {
     "name": "stdout",
     "output_type": "stream",
     "text": [
      "         c1        c2        c3        c4        c5  c6\n",
      "a -0.456449 -0.574734  1.044940 -0.570835 -0.392458 NaN\n",
      "b -0.345683 -0.744499 -0.313432  0.051391 -0.606782 NaN\n",
      "c  2.525894  0.192157  0.112057  0.038515 -0.889730 NaN\n",
      "d -0.961663  0.340553 -0.610189 -2.398438  0.426963 NaN\n",
      "e -1.774811  1.645488  0.257097  1.843888  0.243852 NaN\n",
      "f       NaN       NaN       NaN       NaN       NaN NaN\n"
     ]
    }
   ],
   "source": [
    "df1 = df1.reindex(index=['a','b','c','d','e','f'], columns=['c1','c2','c3','c4','c5','c6'])\n",
    "print(df1)"
   ]
  },
  {
   "cell_type": "code",
   "execution_count": null,
   "id": "hairy-firewall",
   "metadata": {},
   "outputs": [],
   "source": []
  }
 ],
 "metadata": {
  "kernelspec": {
   "display_name": "Python 3",
   "language": "python",
   "name": "python3"
  },
  "language_info": {
   "codemirror_mode": {
    "name": "ipython",
    "version": 3
   },
   "file_extension": ".py",
   "mimetype": "text/x-python",
   "name": "python",
   "nbconvert_exporter": "python",
   "pygments_lexer": "ipython3",
   "version": "3.8.8"
  }
 },
 "nbformat": 4,
 "nbformat_minor": 5
}
