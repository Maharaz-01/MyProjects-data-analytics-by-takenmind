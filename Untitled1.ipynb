{
 "cells": [
  {
   "cell_type": "code",
   "execution_count": 1,
   "id": "architectural-bargain",
   "metadata": {},
   "outputs": [],
   "source": [
    "import pandas as pd"
   ]
  },
  {
   "cell_type": "code",
   "execution_count": 2,
   "id": "attended-certification",
   "metadata": {},
   "outputs": [
    {
     "ename": "SyntaxError",
     "evalue": "invalid syntax (<ipython-input-2-b90cb22988a0>, line 24)",
     "output_type": "error",
     "traceback": [
      "\u001b[1;36m  File \u001b[1;32m\"<ipython-input-2-b90cb22988a0>\"\u001b[1;36m, line \u001b[1;32m24\u001b[0m\n\u001b[1;33m    sheet10.to_csv('Sheet10_convert.csv')exf=pd.ExcelFile(\"Input File.xlsx\")\u001b[0m\n\u001b[1;37m                                         ^\u001b[0m\n\u001b[1;31mSyntaxError\u001b[0m\u001b[1;31m:\u001b[0m invalid syntax\n"
     ]
    }
   ],
   "source": [
    "exf=pd.ExcelFile(\"Input File.xlsx\")\n",
    "sheet1=exf.parse('Sheet1')\n",
    "sheet2=exf.parse('Sheet2')\n",
    "sheet3=exf.parse('Sheet3')\n",
    "sheet4=exf.parse('Sheet4')\n",
    "sheet5=exf.parse('Sheet5')\n",
    "sheet6=exf.parse('Sheet6')\n",
    "sheet7=exf.parse('Sheet7')\n",
    "sheet8=exf.parse('Sheet8')\n",
    "sheet9=exf.parse('Sheet9')\n",
    "sheet10=exf.parse('Sheet10')\n",
    "\n",
    "print(sheet1)\n",
    "\n",
    "sheet1.to_csv('Sheet1_convert.csv')\n",
    "sheet2.to_csv('Sheet2_convert.csv')\n",
    "sheet3.to_csv('Sheet3_convert.csv')\n",
    "sheet4.to_csv('Sheet4_convert.csv')\n",
    "sheet5.to_csv('Sheet5_convert.csv')\n",
    "sheet6.to_csv('Sheet6_convert.csv')\n",
    "sheet7.to_csv('Sheet7_convert.csv')\n",
    "sheet8.to_csv('Sheet8_convert.csv')\n",
    "sheet9.to_csv('Sheet9_convert.csv')\n",
    "sheet10.to_csv('Sheet10_convert.csv')exf=pd.ExcelFile(\"Input File.xlsx\")\n",
    "sheet1=exf.parse('Sheet1')\n",
    "sheet2=exf.parse('Sheet2')\n",
    "sheet3=exf.parse('Sheet3')\n",
    "sheet4=exf.parse('Sheet4')\n",
    "sheet5=exf.parse('Sheet5')\n",
    "sheet6=exf.parse('Sheet6')\n",
    "sheet7=exf.parse('Sheet7')\n",
    "sheet8=exf.parse('Sheet8')\n",
    "sheet9=exf.parse('Sheet9')\n",
    "sheet10=exf.parse('Sheet10')\n",
    "\n",
    "print(sheet1)\n",
    "\n",
    "sheet1.to_csv('Sheet1_convert.csv')\n",
    "sheet2.to_csv('Sheet2_convert.csv')\n",
    "sheet3.to_csv('Sheet3_convert.csv')\n",
    "sheet4.to_csv('Sheet4_convert.csv')\n",
    "sheet5.to_csv('Sheet5_convert.csv')\n",
    "sheet6.to_csv('Sheet6_convert.csv')\n",
    "sheet7.to_csv('Sheet7_convert.csv')\n",
    "sheet8.to_csv('Sheet8_convert.csv')\n",
    "sheet9.to_csv('Sheet9_convert.csv')\n",
    "sheet10.to_csv('Sheet10_convert.csv')"
   ]
  },
  {
   "cell_type": "code",
   "execution_count": null,
   "id": "royal-denmark",
   "metadata": {},
   "outputs": [],
   "source": []
  }
 ],
 "metadata": {
  "kernelspec": {
   "display_name": "Python 3",
   "language": "python",
   "name": "python3"
  },
  "language_info": {
   "codemirror_mode": {
    "name": "ipython",
    "version": 3
   },
   "file_extension": ".py",
   "mimetype": "text/x-python",
   "name": "python",
   "nbconvert_exporter": "python",
   "pygments_lexer": "ipython3",
   "version": "3.8.8"
  }
 },
 "nbformat": 4,
 "nbformat_minor": 5
}
