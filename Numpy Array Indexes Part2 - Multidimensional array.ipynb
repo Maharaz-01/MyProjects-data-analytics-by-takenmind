{
 "cells": [
  {
   "cell_type": "code",
   "execution_count": null,
   "id": "unnecessary-virtue",
   "metadata": {},
   "outputs": [],
   "source": [
    "#Agande\n",
    "#\n",
    "#\n",
    "#\n",
    "#\n",
    "#\n",
    "#"
   ]
  },
  {
   "cell_type": "code",
   "execution_count": 1,
   "id": "verbal-element",
   "metadata": {},
   "outputs": [],
   "source": [
    "import numpy as np"
   ]
  },
  {
   "cell_type": "code",
   "execution_count": 2,
   "id": "growing-grave",
   "metadata": {},
   "outputs": [
    {
     "name": "stdout",
     "output_type": "stream",
     "text": [
      "[[1 2 3]\n",
      " [4 5 6]\n",
      " [7 8 9]]\n"
     ]
    }
   ],
   "source": [
    "arr2d = np.array([[1,2,3], [4,5,6], [7,8,9]])\n",
    "print (arr2d)"
   ]
  },
  {
   "cell_type": "code",
   "execution_count": 3,
   "id": "warming-month",
   "metadata": {},
   "outputs": [
    {
     "name": "stdout",
     "output_type": "stream",
     "text": [
      "[1 2 3]\n",
      "[1 2 3]\n"
     ]
    }
   ],
   "source": [
    "#Accessing Rows\n",
    "print(arr2d[0])\n",
    "print(arr2d[0])"
   ]
  },
  {
   "cell_type": "code",
   "execution_count": 4,
   "id": "engaging-coral",
   "metadata": {},
   "outputs": [
    {
     "name": "stdout",
     "output_type": "stream",
     "text": [
      "1\n"
     ]
    }
   ],
   "source": [
    "#Accessing element of Array\n",
    "print(arr2d[0][0])"
   ]
  },
  {
   "cell_type": "code",
   "execution_count": 5,
   "id": "stuck-contemporary",
   "metadata": {},
   "outputs": [
    {
     "name": "stdout",
     "output_type": "stream",
     "text": [
      "6\n"
     ]
    }
   ],
   "source": [
    "print(arr2d[1][2])"
   ]
  },
  {
   "cell_type": "code",
   "execution_count": 7,
   "id": "painted-thought",
   "metadata": {},
   "outputs": [
    {
     "name": "stdout",
     "output_type": "stream",
     "text": [
      "[[1 2]]\n"
     ]
    }
   ],
   "source": [
    "#Slicing in 2D array\n",
    "slice1 = arr2d[0:1, 0:2]\n",
    "print(slice1)"
   ]
  },
  {
   "cell_type": "code",
   "execution_count": 8,
   "id": "cardiovascular-syndrome",
   "metadata": {},
   "outputs": [
    {
     "name": "stdout",
     "output_type": "stream",
     "text": [
      "[[1 2 3]\n",
      " [4 5 6]]\n"
     ]
    }
   ],
   "source": [
    "slice2 = arr2d[0:2, 0:3]\n",
    "print(slice2)"
   ]
  },
  {
   "cell_type": "code",
   "execution_count": 9,
   "id": "announced-corrections",
   "metadata": {},
   "outputs": [
    {
     "name": "stdout",
     "output_type": "stream",
     "text": [
      "[[1 2]\n",
      " [4 5]]\n"
     ]
    }
   ],
   "source": [
    "slice3 = arr2d[:2, :2]\n",
    "print(slice3)"
   ]
  },
  {
   "cell_type": "code",
   "execution_count": 10,
   "id": "surface-olympus",
   "metadata": {},
   "outputs": [
    {
     "name": "stdout",
     "output_type": "stream",
     "text": [
      "[[6]\n",
      " [9]]\n"
     ]
    }
   ],
   "source": [
    "slice4 = arr2d[1:, 2:]\n",
    "print(slice4)"
   ]
  },
  {
   "cell_type": "code",
   "execution_count": 11,
   "id": "foreign-poultry",
   "metadata": {},
   "outputs": [
    {
     "name": "stdout",
     "output_type": "stream",
     "text": [
      "(3, 3)\n"
     ]
    }
   ],
   "source": [
    "#Using Loops to change index\n",
    "arr_len = arr2d.shape\n",
    "print(arr_len)\n",
    "nrows = arr_len[0]"
   ]
  },
  {
   "cell_type": "code",
   "execution_count": 12,
   "id": "objective-renewal",
   "metadata": {},
   "outputs": [
    {
     "name": "stdout",
     "output_type": "stream",
     "text": [
      "[[0 2 3]\n",
      " [1 5 6]\n",
      " [2 8 9]]\n"
     ]
    }
   ],
   "source": [
    "#\n",
    "for i in range(nrows):\n",
    "    arr2d[i][0]= i\n",
    "print(arr2d)    "
   ]
  },
  {
   "cell_type": "code",
   "execution_count": 13,
   "id": "respected-employment",
   "metadata": {},
   "outputs": [
    {
     "name": "stdout",
     "output_type": "stream",
     "text": [
      "[[0 2 3]\n",
      " [1 5 6]]\n"
     ]
    }
   ],
   "source": [
    "#Accessing rows uding list of index values\n",
    "print(arr2d[[0,1]])"
   ]
  },
  {
   "cell_type": "code",
   "execution_count": 14,
   "id": "negative-layer",
   "metadata": {},
   "outputs": [
    {
     "name": "stdout",
     "output_type": "stream",
     "text": [
      "[[1 5 6]\n",
      " [0 2 3]]\n"
     ]
    }
   ],
   "source": [
    "print(arr2d[[1,0]])"
   ]
  },
  {
   "cell_type": "code",
   "execution_count": null,
   "id": "productive-paintball",
   "metadata": {},
   "outputs": [],
   "source": []
  }
 ],
 "metadata": {
  "kernelspec": {
   "display_name": "Python 3",
   "language": "python",
   "name": "python3"
  },
  "language_info": {
   "codemirror_mode": {
    "name": "ipython",
    "version": 3
   },
   "file_extension": ".py",
   "mimetype": "text/x-python",
   "name": "python",
   "nbconvert_exporter": "python",
   "pygments_lexer": "ipython3",
   "version": "3.8.8"
  }
 },
 "nbformat": 4,
 "nbformat_minor": 5
}
