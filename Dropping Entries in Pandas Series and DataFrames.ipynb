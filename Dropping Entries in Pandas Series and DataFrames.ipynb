{
 "cells": [
  {
   "cell_type": "code",
   "execution_count": null,
   "id": "suspended-singles",
   "metadata": {},
   "outputs": [],
   "source": [
    "#Agenda"
   ]
  },
  {
   "cell_type": "code",
   "execution_count": 1,
   "id": "international-manner",
   "metadata": {},
   "outputs": [],
   "source": [
    "import numpy as mm\n",
    "import pandas as pd\n",
    "from pandas import Series, DataFrame"
   ]
  },
  {
   "cell_type": "code",
   "execution_count": 2,
   "id": "local-bumper",
   "metadata": {},
   "outputs": [
    {
     "name": "stdout",
     "output_type": "stream",
     "text": [
      "a      Bmw\n",
      "b    Honda\n",
      "c     Audi\n",
      "dtype: object\n"
     ]
    }
   ],
   "source": [
    "#Drop values from series\n",
    "cars = Series(['Bmw','Honda', 'Audi'], index=['a','b','c'])\n",
    "print(cars)"
   ]
  },
  {
   "cell_type": "code",
   "execution_count": 3,
   "id": "subject-wonder",
   "metadata": {},
   "outputs": [
    {
     "name": "stdout",
     "output_type": "stream",
     "text": [
      "b    Honda\n",
      "c     Audi\n",
      "dtype: object\n"
     ]
    }
   ],
   "source": [
    "cars = cars.drop('a')\n",
    "print(cars)"
   ]
  },
  {
   "cell_type": "code",
   "execution_count": 29,
   "id": "ecological-embassy",
   "metadata": {},
   "outputs": [
    {
     "name": "stdout",
     "output_type": "stream",
     "text": [
      "          Test1     test2     Test3\n",
      "Bmw   -1.186780 -0.540891 -0.122217\n",
      "Audi   0.698602  1.316959 -1.110716\n",
      "Honda -0.677336  0.284782 -0.780816\n"
     ]
    }
   ],
   "source": [
    "#Drop Rows from DataFrame\n",
    "#Drop Columns from DataFrame\n",
    "cars_df=DataFrame(mm.random.randn(9).reshape(3,3), index=['Bmw','Audi','Honda'], columns=['Test1','test2','Test3'])\n",
    "print(cars_df)"
   ]
  },
  {
   "cell_type": "code",
   "execution_count": 30,
   "id": "radio-poster",
   "metadata": {},
   "outputs": [
    {
     "name": "stdout",
     "output_type": "stream",
     "text": [
      "          Test1     test2     Test3\n",
      "Audi   0.698602  1.316959 -1.110716\n",
      "Honda -0.677336  0.284782 -0.780816\n"
     ]
    }
   ],
   "source": [
    "cars_df=cars_df.drop('Bmw')\n",
    "print(cars_df)"
   ]
  },
  {
   "cell_type": "code",
   "execution_count": 26,
   "id": "vocational-indianapolis",
   "metadata": {},
   "outputs": [
    {
     "name": "stdout",
     "output_type": "stream",
     "text": [
      "          test2     Test3\n",
      "Audi   0.841221  1.428851\n",
      "Honda  1.152104 -0.059197\n"
     ]
    }
   ],
   "source": [
    "cars_df=cars_df.drop('Test1', axis=1)\n",
    "print(cars_df)"
   ]
  },
  {
   "cell_type": "code",
   "execution_count": null,
   "id": "direct-chick",
   "metadata": {},
   "outputs": [],
   "source": []
  },
  {
   "cell_type": "code",
   "execution_count": null,
   "id": "essential-surge",
   "metadata": {},
   "outputs": [],
   "source": []
  }
 ],
 "metadata": {
  "kernelspec": {
   "display_name": "Python 3",
   "language": "python",
   "name": "python3"
  },
  "language_info": {
   "codemirror_mode": {
    "name": "ipython",
    "version": 3
   },
   "file_extension": ".py",
   "mimetype": "text/x-python",
   "name": "python",
   "nbconvert_exporter": "python",
   "pygments_lexer": "ipython3",
   "version": "3.8.8"
  }
 },
 "nbformat": 4,
 "nbformat_minor": 5
}
