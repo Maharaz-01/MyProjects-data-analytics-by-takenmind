{
 "cells": [
  {
   "cell_type": "code",
   "execution_count": 1,
   "id": "ordered-tyler",
   "metadata": {},
   "outputs": [],
   "source": [
    "#Agenda\n",
    "#Populate a list based on conitional values\n",
    "#Disadvantages\n",
    "#Using mm.where()\n",
    "#standard functions in numpy - sum, sum(0), std(), var()\n",
    "#sort() function\n",
    "#unique\n",
    "#imid"
   ]
  },
  {
   "cell_type": "code",
   "execution_count": 1,
   "id": "relative-number",
   "metadata": {},
   "outputs": [],
   "source": [
    "import numpy as mm"
   ]
  },
  {
   "cell_type": "code",
   "execution_count": 5,
   "id": "minor-portal",
   "metadata": {},
   "outputs": [
    {
     "name": "stdout",
     "output_type": "stream",
     "text": [
      "[100, 400, 20, 25]\n"
     ]
    }
   ],
   "source": [
    "#Populate a list based on conitional values\n",
    "x = mm.array([100,400,50,40]) #each element a\n",
    "y= mm.array([10,15,20,25]) #each element b\n",
    "condition = mm.array([True, True, False, False])# each element \n",
    "\n",
    "z = [a if cond else b for a, cond, b in zip(x, condition,y)]\n",
    "print(z)"
   ]
  },
  {
   "cell_type": "code",
   "execution_count": 6,
   "id": "stable-format",
   "metadata": {},
   "outputs": [
    {
     "name": "stdout",
     "output_type": "stream",
     "text": [
      "[100 400  20  25]\n"
     ]
    }
   ],
   "source": [
    "#Using mm.where() \n",
    "z2 = mm.where(condition, x,y)\n",
    "print(z2)"
   ]
  },
  {
   "cell_type": "code",
   "execution_count": 7,
   "id": "flush-register",
   "metadata": {},
   "outputs": [
    {
     "name": "stdout",
     "output_type": "stream",
     "text": [
      "[1 1 1 1]\n"
     ]
    }
   ],
   "source": [
    "#sort() function\n",
    "#unique\n",
    "#imid\n",
    "z3 = mm.where(x>0, 1,x)\n",
    "print(z3)"
   ]
  },
  {
   "cell_type": "code",
   "execution_count": 8,
   "id": "divided-output",
   "metadata": {},
   "outputs": [
    {
     "name": "stdout",
     "output_type": "stream",
     "text": [
      "590\n"
     ]
    }
   ],
   "source": [
    "#standard functions in numpy - sum, sum(0), std(), var()\n",
    "print(x.sum())"
   ]
  },
  {
   "cell_type": "code",
   "execution_count": 10,
   "id": "growing-latex",
   "metadata": {},
   "outputs": [
    {
     "name": "stdout",
     "output_type": "stream",
     "text": [
      "[[1 2]\n",
      " [3 4]]\n"
     ]
    }
   ],
   "source": [
    "x2 = mm.array([[1,2],[3,4]])\n",
    "print(x2)"
   ]
  },
  {
   "cell_type": "code",
   "execution_count": 11,
   "id": "charged-vatican",
   "metadata": {},
   "outputs": [
    {
     "name": "stdout",
     "output_type": "stream",
     "text": [
      "[4 6]\n"
     ]
    }
   ],
   "source": [
    "print(x2.sum(0))"
   ]
  },
  {
   "cell_type": "code",
   "execution_count": 12,
   "id": "appropriate-secondary",
   "metadata": {},
   "outputs": [
    {
     "name": "stdout",
     "output_type": "stream",
     "text": [
      "147.5\n",
      "147.54236679679502\n",
      "21768.75\n"
     ]
    }
   ],
   "source": [
    "print (x.mean())\n",
    "print(x.std())\n",
    "print(x.var())"
   ]
  },
  {
   "cell_type": "code",
   "execution_count": 13,
   "id": "arabic-affect",
   "metadata": {},
   "outputs": [
    {
     "name": "stdout",
     "output_type": "stream",
     "text": [
      "True\n",
      "False\n"
     ]
    }
   ],
   "source": [
    "#logical AND OR Operation -any() all()\n",
    "condition2 = mm.array([True, False, True])\n",
    "#OR\n",
    "print(condition2.any())\n",
    "print(condition2.all())"
   ]
  },
  {
   "cell_type": "code",
   "execution_count": 15,
   "id": "determined-determination",
   "metadata": {},
   "outputs": [
    {
     "name": "stdout",
     "output_type": "stream",
     "text": [
      "[ 1  2 10  6  4  3]\n",
      "[ 1  2  3  4  6 10]\n"
     ]
    }
   ],
   "source": [
    "#sort() function\n",
    "unsorted = mm.array([1,2,10,6,4,3])\n",
    "print(unsorted)\n",
    "unsorted.sort()\n",
    "print(unsorted)"
   ]
  },
  {
   "cell_type": "code",
   "execution_count": 17,
   "id": "caring-muscle",
   "metadata": {},
   "outputs": [
    {
     "name": "stdout",
     "output_type": "stream",
     "text": [
      "['gas' 'liquid' 'solid']\n"
     ]
    }
   ],
   "source": [
    "#Unique\n",
    "arr2 = mm.array(['liquid', 'liquid', 'gas', 'gas', 'liquid', 'gas', 'solid',  'solid'])\n",
    "print(mm.unique(arr2))"
   ]
  },
  {
   "cell_type": "code",
   "execution_count": 20,
   "id": "designed-token",
   "metadata": {},
   "outputs": [
    {
     "name": "stdout",
     "output_type": "stream",
     "text": [
      "[ True False  True False]\n"
     ]
    }
   ],
   "source": [
    "#in1d\n",
    "print (mm.in1d([\"solid\", \"me\", \"liquid\", \"plasma\"], arr2))"
   ]
  },
  {
   "cell_type": "code",
   "execution_count": null,
   "id": "devoted-anaheim",
   "metadata": {},
   "outputs": [],
   "source": []
  }
 ],
 "metadata": {
  "kernelspec": {
   "display_name": "Python 3",
   "language": "python",
   "name": "python3"
  },
  "language_info": {
   "codemirror_mode": {
    "name": "ipython",
    "version": 3
   },
   "file_extension": ".py",
   "mimetype": "text/x-python",
   "name": "python",
   "nbconvert_exporter": "python",
   "pygments_lexer": "ipython3",
   "version": "3.8.8"
  }
 },
 "nbformat": 4,
 "nbformat_minor": 5
}
