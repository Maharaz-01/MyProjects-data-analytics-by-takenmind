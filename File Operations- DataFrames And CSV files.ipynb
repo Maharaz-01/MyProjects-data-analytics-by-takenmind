{
 "cells": [
  {
   "cell_type": "code",
   "execution_count": null,
   "id": "impossible-housing",
   "metadata": {},
   "outputs": [],
   "source": [
    "#Agenda\n",
    "# Intro. csv files\n",
    "#importing csv files\n",
    "# read_table() function\n",
    "#importing partial rows\n",
    "#dumping dataframe to csv file"
   ]
  },
  {
   "cell_type": "code",
   "execution_count": 1,
   "id": "recovered-pursuit",
   "metadata": {},
   "outputs": [],
   "source": [
    "import numpy as mm\n",
    "import pandas as pd\n",
    "from pandas import Series, DataFrame"
   ]
  },
  {
   "cell_type": "code",
   "execution_count": null,
   "id": "acute-casting",
   "metadata": {},
   "outputs": [],
   "source": [
    "#importing csv files\n",
    "df1 = pd.read_csv(\"company.csv\")\n",
    "print(df1)"
   ]
  }
 ],
 "metadata": {
  "kernelspec": {
   "display_name": "Python 3",
   "language": "python",
   "name": "python3"
  },
  "language_info": {
   "codemirror_mode": {
    "name": "ipython",
    "version": 3
   },
   "file_extension": ".py",
   "mimetype": "text/x-python",
   "name": "python",
   "nbconvert_exporter": "python",
   "pygments_lexer": "ipython3",
   "version": "3.8.8"
  }
 },
 "nbformat": 4,
 "nbformat_minor": 5
}
